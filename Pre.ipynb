{
 "cells": [
  {
   "cell_type": "code",
   "execution_count": 1,
   "id": "3e7a4a40-b841-4516-be59-30a2dc7b7bc2",
   "metadata": {},
   "outputs": [
    {
     "name": "stdout",
     "output_type": "stream",
     "text": [
      "false\n"
     ]
    }
   ],
   "source": [
    "num1=20\n",
    "num2=40\n",
    "if num1>50 or num2>50:\n",
    "    print(\"true\")\n",
    "else:\n",
    "    print(\"false\")"
   ]
  },
  {
   "cell_type": "code",
   "execution_count": 9,
   "id": "82b59d59-2192-49b5-8b61-b9bfc20367fd",
   "metadata": {},
   "outputs": [
    {
     "name": "stdout",
     "output_type": "stream",
     "text": [
      "<class 'int'> <class 'float'> <class 'int'>\n",
      "1 2.0\n"
     ]
    },
    {
     "data": {
      "text/plain": [
       "str"
      ]
     },
     "execution_count": 9,
     "metadata": {},
     "output_type": "execute_result"
    }
   ],
   "source": [
    "x=1\n",
    "y=2.0\n",
    "z=-1\n",
    "print(type(x), type(y),type(z))\n",
    "print(x,y)\n",
    "type(\"Hello world\")"
   ]
  },
  {
   "cell_type": "code",
   "execution_count": 17,
   "id": "e9c1d4c0-49d3-45ef-9de8-4895727be46b",
   "metadata": {},
   "outputs": [
    {
     "name": "stdout",
     "output_type": "stream",
     "text": [
      "3\n"
     ]
    }
   ],
   "source": [
    "print(6//2)"
   ]
  },
  {
   "cell_type": "code",
   "execution_count": 19,
   "id": "075ca05b-c841-4884-8097-be2b9580af44",
   "metadata": {},
   "outputs": [
    {
     "name": "stdout",
     "output_type": "stream",
     "text": [
      "<class 'bool'>\n"
     ]
    }
   ],
   "source": [
    "print(type(\"hello\"==\"world\"))"
   ]
  },
  {
   "cell_type": "code",
   "execution_count": 29,
   "id": "fbd12dea-4f55-4188-a71f-709811a5348c",
   "metadata": {},
   "outputs": [
    {
     "name": "stdout",
     "output_type": "stream",
     "text": [
      "5.0\n",
      "5.0\n",
      "7\n",
      "10\n"
     ]
    }
   ],
   "source": [
    "print((55-5)/10)\n",
    "print((6*10)/12)\n",
    "a=3+2*2\n",
    "b=(3+2)*2\n",
    "print(a)\n",
    "print(b)"
   ]
  },
  {
   "cell_type": "code",
   "execution_count": 31,
   "id": "821fb172-8ee4-4f5d-8e6d-11f08bce9d77",
   "metadata": {},
   "outputs": [
    {
     "name": "stdout",
     "output_type": "stream",
     "text": [
      "5\n"
     ]
    }
   ],
   "source": [
    "print(11//2)"
   ]
  },
  {
   "cell_type": "code",
   "execution_count": 35,
   "id": "ecc489b2-2464-430a-8721-4a8a9a6d4546",
   "metadata": {},
   "outputs": [
    {
     "name": "stdout",
     "output_type": "stream",
     "text": [
      "M\n",
      "l\n",
      "o\n",
      "n\n",
      "M\n",
      "15\n"
     ]
    }
   ],
   "source": [
    "name=\"Michael Jackson\"\n",
    "print(name[0])\n",
    "print(name[6])\n",
    "print(name[13])\n",
    "print(name[-1])\n",
    "print(name[-15])\n",
    "print(len(name))\n"
   ]
  },
  {
   "cell_type": "code",
   "execution_count": 39,
   "id": "05a7239b-5b90-4dfb-9eb5-0d54d938de7f",
   "metadata": {},
   "outputs": [
    {
     "name": "stdout",
     "output_type": "stream",
     "text": [
      "Mich\n",
      "Jack\n",
      "McalJcsn\n",
      "Mca\n"
     ]
    }
   ],
   "source": [
    "print(name[0:4])\n",
    "print(name[8:12])\n",
    "print(name[::2])\n",
    "print(name[0:5:2])"
   ]
  },
  {
   "cell_type": "code",
   "execution_count": 41,
   "id": "e8df0865-6350-45ba-bf6a-8b653161f61d",
   "metadata": {},
   "outputs": [
    {
     "name": "stdout",
     "output_type": "stream",
     "text": [
      "Michael Jackson\n"
     ]
    }
   ],
   "source": [
    "print(name)"
   ]
  },
  {
   "cell_type": "code",
   "execution_count": 45,
   "id": "3dd13a5e-f1fd-4d85-81ba-f3b2b5827a62",
   "metadata": {},
   "outputs": [
    {
     "name": "stdout",
     "output_type": "stream",
     "text": [
      "Michael Jackson is the best\n"
     ]
    }
   ],
   "source": [
    "stmt=name+\" is the best\"\n",
    "print(stmt)"
   ]
  },
  {
   "cell_type": "code",
   "execution_count": 53,
   "id": "e135122c-fb4f-4c70-be62-7e12239b40c7",
   "metadata": {},
   "outputs": [
    {
     "name": "stdout",
     "output_type": "stream",
     "text": [
      "Michael Jackson is the best\n",
      "Michael Jackson \n",
      " is the best\n",
      "Michael Jackson \t is the best\n",
      "Michael Jackson \\ is the best\n",
      "Michael Jackson \\n is the best\n"
     ]
    }
   ],
   "source": [
    "print(\"Michael Jackson is the best\")\n",
    "print(\"Michael Jackson \\n is the best\")\n",
    "print(\"Michael Jackson \\t is the best\")\n",
    "print(\"Michael Jackson \\\\ is the best\")\n",
    "print(r\"Michael Jackson \\n is the best\")"
   ]
  },
  {
   "cell_type": "code",
   "execution_count": 57,
   "id": "a0fb06d0-c19b-4bba-bbef-802c25ea7eb8",
   "metadata": {},
   "outputs": [
    {
     "name": "stdout",
     "output_type": "stream",
     "text": [
      "MICHAEL JACKSON IS THE BEST\n"
     ]
    }
   ],
   "source": [
    "m=stmt.upper()\n",
    "print(m)"
   ]
  },
  {
   "cell_type": "code",
   "execution_count": 69,
   "id": "edd2767f-fc1c-46ea-b6db-287140fa134e",
   "metadata": {},
   "outputs": [
    {
     "name": "stdout",
     "output_type": "stream",
     "text": [
      "JANET JACKSON IS THE BEST\n",
      "-1\n",
      "-1\n",
      "6\n"
     ]
    }
   ],
   "source": [
    "n=m.replace(\"MICHAEL\",\"JANET\")\n",
    "print(n)\n",
    "print(n.find('el'))\n",
    "print(n.find('EL'))\n",
    "print(n.find('JACK'))"
   ]
  },
  {
   "cell_type": "code",
   "execution_count": 71,
   "id": "0b0a15b2-8643-40fa-a6f2-e2917c7a3717",
   "metadata": {},
   "outputs": [
    {
     "name": "stdout",
     "output_type": "stream",
     "text": [
      "5\n"
     ]
    }
   ],
   "source": [
    "print(\"helloMike\".find(\"Mike\"))"
   ]
  },
  {
   "cell_type": "code",
   "execution_count": 77,
   "id": "269e7a76-cd0f-4bd5-a9ce-f4a587604552",
   "metadata": {},
   "outputs": [
    {
     "name": "stdout",
     "output_type": "stream",
     "text": [
      "56\n",
      "11\n"
     ]
    }
   ],
   "source": [
    "print('5'+'6')\n",
    "print(str(1)+str(1))"
   ]
  },
  {
   "cell_type": "code",
   "execution_count": 81,
   "id": "97ba059f-3250-4864-a131-a023bb4c9545",
   "metadata": {},
   "outputs": [
    {
     "name": "stdout",
     "output_type": "stream",
     "text": [
      "Python\n"
     ]
    }
   ],
   "source": [
    "y=\"Fun Python\"\n",
    "print(y[4:10])"
   ]
  },
  {
   "cell_type": "code",
   "execution_count": 83,
   "id": "2e11fd7c-8811-4388-bc38-1c4d8813ca1e",
   "metadata": {},
   "outputs": [
    {
     "name": "stdout",
     "output_type": "stream",
     "text": [
      "2\n"
     ]
    }
   ],
   "source": [
    "print(str(1+1))"
   ]
  },
  {
   "cell_type": "code",
   "execution_count": null,
   "id": "4212ab1b-ed1d-4acf-8115-4674302dd18c",
   "metadata": {},
   "outputs": [],
   "source": []
  }
 ],
 "metadata": {
  "kernelspec": {
   "display_name": "Python 3 (ipykernel)",
   "language": "python",
   "name": "python3"
  },
  "language_info": {
   "codemirror_mode": {
    "name": "ipython",
    "version": 3
   },
   "file_extension": ".py",
   "mimetype": "text/x-python",
   "name": "python",
   "nbconvert_exporter": "python",
   "pygments_lexer": "ipython3",
   "version": "3.12.7"
  }
 },
 "nbformat": 4,
 "nbformat_minor": 5
}
